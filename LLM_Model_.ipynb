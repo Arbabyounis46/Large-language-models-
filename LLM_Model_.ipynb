{
 "cells": [
  {
   "cell_type": "markdown",
   "metadata": {
    "id": "g2UQGmu5Lar2"
   },
   "source": [
    "# Install required packages"
   ]
  },
  {
   "cell_type": "code",
   "execution_count": null,
   "metadata": {
    "colab": {
     "base_uri": "https://localhost:8080/",
     "height": 1000
    },
    "id": "q4vM6nyALT4A",
    "outputId": "e4be945e-896f-468e-dddc-5b9a7cb37b57"
   },
   "outputs": [],
   "source": [
    "!pip install torch torchvision transformers datasets matplotlib pandas scikit-learn wordcloud\n",
    "!pip install --upgrade --force-reinstall fsspec datasets"
   ]
  },
  {
   "cell_type": "markdown",
   "metadata": {
    "id": "0Tyg6i1zLckm"
   },
   "source": [
    "# IMPORTS"
   ]
  },
  {
   "cell_type": "code",
   "execution_count": null,
   "metadata": {
    "id": "_6SIzfcbLctx"
   },
   "outputs": [],
   "source": [
    "import torch\n",
    "import torch.nn as nn\n",
    "from torch.utils.data import Dataset, DataLoader\n",
    "from transformers import BertTokenizer, BertForSequenceClassification\n",
    "from torch.optim import AdamW\n",
    "from datasets import load_dataset\n",
    "import matplotlib.pyplot as plt\n",
    "import pandas as pd\n",
    "from sklearn.metrics import accuracy_score, confusion_matrix, ConfusionMatrixDisplay, f1_score\n",
    "from wordcloud import WordCloud\n",
    "from sklearn.model_selection import train_test_split"
   ]
  },
  {
   "cell_type": "markdown",
   "metadata": {
    "id": "jpc0s1UvLlBN"
   },
   "source": [
    "PLOT STYLE AND DEVICE CHECK"
   ]
  },
  {
   "cell_type": "code",
   "execution_count": null,
   "metadata": {
    "colab": {
     "base_uri": "https://localhost:8080/"
    },
    "id": "Ig8MWjkrLlIu",
    "outputId": "f2b08868-7e64-4322-c9e6-456e8407ff72"
   },
   "outputs": [],
   "source": [
    "plt.style.use('bmh')\n",
    "device_main = torch.device('cuda' if torch.cuda.is_available() else 'cpu')\n",
    "print(\"Device used:\", device_main)"
   ]
  },
  {
   "cell_type": "markdown",
   "metadata": {
    "id": "VW2qoqLLLzZc"
   },
   "source": [
    "# LOAD DATA"
   ]
  },
  {
   "cell_type": "code",
   "execution_count": null,
   "metadata": {
    "colab": {
     "base_uri": "https://localhost:8080/",
     "height": 301,
     "referenced_widgets": [
      "6ffaccdd8f4f4380986f3ce69d7cc69f",
      "9caebf5be8f941168e42e1cd2beb1b3f",
      "5424c6c4c67949f98793a8116a9044a8",
      "5d79ab99729b4b359c5ea382e00d9248",
      "568fa89809824bd38ab27996fdecfe74",
      "91dd65a0722441d18f0a2c91114b697c",
      "d46d0ee7109f42688d8966e08b40f19c",
      "78c90e91f15f490abe0714089eafe921",
      "4eb3952152be4883aeb5bbd9a8991ae6",
      "e25bf02552084cc394cd417e912b1677",
      "af3b14c6ff4a422fbb8f8928a1f6f688",
      "5dd414e96abe4a80adbeb527286e2e2e",
      "0838a2cb7214442aaad20c068deef1e7",
      "c1cc0eb0b4954dbaa954e6abfb6e112b",
      "52cdd86732dc4d46b786f9d51b0abb7e",
      "14876c9f77fe451182c80c2718c58199",
      "2a31fcfe2132488a8615cda239312330",
      "1b31183e13ed4e9b837ea0d8b61d46cc",
      "5577f109e7354ff98306832f9bf9af34",
      "add44b8195af4d37b8d5771c8f671e5c",
      "4d28cc1e7d5f47d88dbae3d5b5e8bacc",
      "6797c43b9d024a0c91bdfdc5fc16f028",
      "876ae2183a7d4bc1b962de94c79d5b6a",
      "ee8e9ade66a3435da8ba556214c522e5",
      "f93c7fc50aaf43e5b88a7d0da951af7c",
      "a300912d5a694b44bfe8d42ea3a3d3ec",
      "4c19bb37aec34d64b50e78a94985e522",
      "10b89934490b435889b848e627532c01",
      "bba843f72d634e629367ca8f51d11e8e",
      "1d8054a72d9242be9070eb44e40d04c0",
      "ea86535bbe9743ab81f633889623c542",
      "a752f01149264e56ba88843723a3ed73",
      "c316146a448a405db387adead925c521",
      "a18272a5a03740298e4d4424a086ff6d",
      "001013294f9b4ead991cfd5a36389b00",
      "cb019d44c686487cbf7cb8bd472928fb",
      "9f3e37b5d6fb476d8ff989305b6622ba",
      "b8fa202106e4451093d20d8ef78144d9",
      "b3f728164e284a0a8eec05565f1666a8",
      "26dd182ce8e8486984ca90c18a137938",
      "ea0a209f6caa4aec8a50bfff13de96be",
      "9deacc25c0654354837180b1c796254a",
      "39680d84041b46b1afa61b4161ec9b5b",
      "8201995ca73b4123aa518e3a4ea15d85",
      "b7244691a5464846892a28851fcec4e5",
      "54facab4d34e4fd2865f89a086a33fe2",
      "b30e8e1fd5204267abae28e7afd9efc9",
      "7096c842d2904befbf8d349610a3ed42",
      "5a790f647148498892eedab76ef3a94e",
      "0c28224022254f91a2efddf09b9eee2d",
      "eda650234d1e4eed8610f2dc07515dca",
      "6d5ac19c1512434d992b1ca67a6aa80f",
      "ea476962419b4161a5669a8b485dd1c7",
      "a0623ac0003f4780b7e598e2b6e517b9",
      "7ae9afce68eb44b8aa10f525fab8006b"
     ]
    },
    "id": "djpDDz9GLzgf",
    "outputId": "78b78469-996a-4b72-f6af-08a14264ece2"
   },
   "outputs": [],
   "source": [
    "dataset_ag = load_dataset(\"ag_news\")\n",
    "df_full = pd.concat([pd.DataFrame(dataset_ag['train']), pd.DataFrame(dataset_ag['test'])], ignore_index=True)\n",
    "df_full = df_full.sample(frac=1, random_state=999).reset_index(drop=True)"
   ]
  },
  {
   "cell_type": "markdown",
   "metadata": {
    "id": "7OMUrAgaL6ko"
   },
   "source": [
    "# SUBSAMPLE FOR FAST DEMO"
   ]
  },
  {
   "cell_type": "code",
   "execution_count": null,
   "metadata": {
    "id": "cP39ZXvBL6sX"
   },
   "outputs": [],
   "source": [
    "df_part, df_val = train_test_split(\n",
    "    df_full, train_size=4000, test_size=1000,\n",
    "    stratify=df_full['label'], random_state=101\n",
    ")\n",
    "category_names = ['World', 'Sports', 'Business', 'Sci/Tech']"
   ]
  },
  {
   "cell_type": "markdown",
   "metadata": {
    "id": "IPTTEMp6MGqU"
   },
   "source": [
    "# LABELS BAR"
   ]
  },
  {
   "cell_type": "code",
   "execution_count": null,
   "metadata": {
    "colab": {
     "base_uri": "https://localhost:8080/",
     "height": 307
    },
    "id": "uRMGR7caMGxH",
    "outputId": "b0d509ba-29e1-435a-97e8-06b7dfca6c08"
   },
   "outputs": [],
   "source": [
    "plt.figure(figsize=(5,3))\n",
    "colorset = ['#f4a259', '#5b8e7d', '#233d4d', '#fe5f55']\n",
    "df_part['label'].value_counts().sort_index().plot(kind='bar', color=colorset, edgecolor='gray')\n",
    "plt.xticks(range(4), category_names, rotation=25, fontsize=11)\n",
    "plt.title('News Class Distribution', fontsize=13, fontweight='bold', color='#3e2f5b')\n",
    "plt.xlabel('')\n",
    "plt.ylabel('Number')\n",
    "plt.grid(axis='y', linestyle='--', alpha=0.4)\n",
    "plt.tight_layout()\n",
    "plt.show()"
   ]
  },
  {
   "cell_type": "code",
   "execution_count": null,
   "metadata": {
    "colab": {
     "base_uri": "https://localhost:8080/",
     "height": 307
    },
    "id": "BAxNu46IMPLk",
    "outputId": "35bf3c9f-cb82-4049-92ea-6bd8980b9077"
   },
   "outputs": [],
   "source": [
    "# TEXT LENGTH HIST\n",
    "df_part['text_count'] = df_part['text'].apply(lambda t: len(t.split()))\n",
    "plt.figure(figsize=(6.5,3))\n",
    "plt.hist(df_part['text_count'], bins=35, color='#6a0572', edgecolor='#e56b6f', alpha=0.8)\n",
    "plt.title('News Sample Lengths (words)', fontsize=12, fontweight='bold', color='#023e8a')\n",
    "plt.xlabel('Words per news')\n",
    "plt.ylabel('Frequency')\n",
    "plt.grid(axis='y', linestyle='-.', alpha=0.3)\n",
    "plt.tight_layout()\n",
    "plt.show()"
   ]
  },
  {
   "cell_type": "markdown",
   "metadata": {
    "id": "YMmu5_CKMT2L"
   },
   "source": [
    "# WORD CLOUDS"
   ]
  },
  {
   "cell_type": "code",
   "execution_count": null,
   "metadata": {
    "colab": {
     "base_uri": "https://localhost:8080/",
     "height": 1000
    },
    "id": "R1upKR6xMT_-",
    "outputId": "8f83552d-2160-4556-b0e5-d92e5516658c"
   },
   "outputs": [],
   "source": [
    "cmap_list = ['twilight', 'Wistia', 'gnuplot2', 'PuRd']\n",
    "for i, cname, cm in zip(range(4), category_names, cmap_list):\n",
    "    wc_text = \" \".join(df_part[df_part['label'] == i]['text'])\n",
    "    wc_img = WordCloud(width=650, height=240, background_color='black', colormap=cm).generate(wc_text)\n",
    "    plt.figure(figsize=(7.3,2.7))\n",
    "    plt.imshow(wc_img, interpolation='bilinear')\n",
    "    plt.axis('off')\n",
    "    plt.title(f'Word Cloud: {cname}', fontsize=12, color='#ffd166')\n",
    "    plt.tight_layout()\n",
    "    plt.show()"
   ]
  },
  {
   "cell_type": "markdown",
   "metadata": {
    "id": "2KeU7k9wMbPQ"
   },
   "source": [
    "# MODEL DATA"
   ]
  },
  {
   "cell_type": "code",
   "execution_count": null,
   "metadata": {
    "id": "2yNcaXlTMbXO"
   },
   "outputs": [],
   "source": [
    "news_texts = df_part['text'].tolist()\n",
    "news_targets = df_part['label'].tolist()\n",
    "val_texts = df_val['text'].tolist()\n",
    "val_targets = df_val['label'].tolist()"
   ]
  },
  {
   "cell_type": "markdown",
   "metadata": {
    "id": "wzibXol2MhXD"
   },
   "source": [
    "# CUSTOM DATASET CLASS"
   ]
  },
  {
   "cell_type": "code",
   "execution_count": null,
   "metadata": {
    "id": "b1HGkyA4Mhec"
   },
   "outputs": [],
   "source": [
    "class AGDataset(Dataset):\n",
    "    def __init__(self, texts, classes, tok, mlen):\n",
    "        self.texts = texts\n",
    "        self.classes = classes\n",
    "        self.tokenizer = tok\n",
    "        self.maxlen = mlen\n",
    "    def __len__(self): return len(self.texts)\n",
    "    def __getitem__(self, idx):\n",
    "        enc = self.tokenizer(\n",
    "            self.texts[idx],\n",
    "            truncation=True,\n",
    "            padding='max_length',\n",
    "            max_length=self.maxlen,\n",
    "            return_tensors='pt'\n",
    "        )\n",
    "        data = {k: v.squeeze(0) for k, v in enc.items()}\n",
    "        data['labels'] = torch.tensor(self.classes[idx], dtype=torch.long)\n",
    "        return data"
   ]
  },
  {
   "cell_type": "markdown",
   "metadata": {
    "id": "EhA-jUd6MsT7"
   },
   "source": [
    "# TOKENIZER & DATALOADERS"
   ]
  },
  {
   "cell_type": "code",
   "execution_count": null,
   "metadata": {
    "colab": {
     "base_uri": "https://localhost:8080/",
     "height": 145,
     "referenced_widgets": [
      "464f1fdd5c56461ca9b53ac46135d0a7",
      "1672d3b35a784b83bce604a1224a4725",
      "db8d3f8a4b084dd48d5b533d33876791",
      "51e5b9d07ffa42b4bef38cd41a57bbf8",
      "105d16e62c89421b9cc116594b3483a3",
      "f25fe6e6d5dd46deb77d479b895d15cb",
      "9a054f8fb0e948109277d1faa31e8fa7",
      "952f215245874768a485a70f1df01c48",
      "44ac9661f9d54859aea125c032e44bd7",
      "e751eb3f56f04219b3d5e0d8f41a2f24",
      "5bb8a28d88544693b6ae2f2882c98c5e",
      "5f3c2fb0d9d14f628dd2a606e945e81d",
      "38da2d33524b405d8397fe14a5d3e0a6",
      "6c9e92f40ce74d55883cd4623a9ff0bd",
      "a8153eb9639b4ed38350af045feef0a6",
      "fe21d0479447489ea714d971f9e63547",
      "9ade9afbf11f44afac94764f57859ce8",
      "35074969624e4827a2ae0cba4757213e",
      "81030f6f4c5d4ca98c6664e3240723f8",
      "b7bf6342817e4f808b9572dc33a9330e",
      "a022b5228af14a0dbbfaf1829f8457da",
      "43dc73cc7d5d45b88078392919ba346e",
      "39978100e9a24527a3398bda2fef780e",
      "ef903e78c35b42878498547d653154c1",
      "7c3e5ccdbd794878bcd0e2c06533b649",
      "9780a18049d94a29871a83f3a6a49ad9",
      "64ac59e31f7b410a93a609acb43d2a14",
      "43cf6ff77acf45e7863830e99fbbfd06",
      "41bd24397d4b4ff489ee91e371a52672",
      "cb5e29fcb04a46ebac309fdcef62e6f6",
      "22ee8dc163884b4da1a46c4b59336bc9",
      "0e6cac0278cd4c05b0269dd8305e4174",
      "4354dde1ec5b4eaf80d408be90f1ffd9",
      "6815632a60fc4e1385facd06aa7d6e6c",
      "0b5ad55fb1b9404a86aa24b86827d78a",
      "938add5e95e14dbe86e13fdc9d32c117",
      "db067b74018640428db4d77eb208d661",
      "0823e7f41a3a48e19fb4b67f3c869326",
      "ce7e18377a964fd6a7b51c686a9651d7",
      "0c029f4e5a874f3884fab4d9ebcb58f6",
      "70e0ed899a9e4f0b889115deae58ad9c",
      "5b88a436e37349a386667b580a24fe5a",
      "be472ed579454a67a089a5e975661f83",
      "8c5fcefa33c84764a58df986d79bc66f"
     ]
    },
    "id": "srDC9fo6Msbp",
    "outputId": "80fca57f-ac5d-405e-ba14-b3caff153577"
   },
   "outputs": [],
   "source": [
    "ag_token = BertTokenizer.from_pretrained('bert-base-uncased')\n",
    "news_maxlen = 48\n",
    "ag_trainset = AGDataset(news_texts, news_targets, ag_token, news_maxlen)\n",
    "ag_valset = AGDataset(val_texts, val_targets, ag_token, news_maxlen)\n",
    "train_batch = DataLoader(ag_trainset, batch_size=22, shuffle=True)\n",
    "val_batch = DataLoader(ag_valset, batch_size=22)"
   ]
  },
  {
   "cell_type": "markdown",
   "metadata": {
    "id": "aocLL5IpMy9u"
   },
   "source": [
    "# BERT SETUP"
   ]
  },
  {
   "cell_type": "code",
   "execution_count": null,
   "metadata": {
    "colab": {
     "base_uri": "https://localhost:8080/",
     "height": 104,
     "referenced_widgets": [
      "7c5b2863253047cdb52c3e339c3b214b",
      "b78436774a154d7e810567c4a1c449ce",
      "3e719f8a61a844be89bd523e76178e68",
      "938e501ab4cb4b2193f9afc18221b800",
      "1fbe2077f1e0466db297c557997e5c71",
      "7b0ca7fce0a54285a6f074f89792cbe0",
      "300e6cf40dbe4a58b18872154306972e",
      "9d1023a1f19747faa652225bc7fc1382",
      "900ff5956bf042b3bc48e6f4eb12d475",
      "036e396f24c3456e84ac43e89c39ed37",
      "14c624d131454fdeb8fdc28c495c1f71"
     ]
    },
    "id": "xVgT-EpLMzFV",
    "outputId": "79f18373-1a36-4bf5-8925-009366791728"
   },
   "outputs": [],
   "source": [
    "news_bert = BertForSequenceClassification.from_pretrained('bert-base-uncased', num_labels=4)\n",
    "news_bert = news_bert.to(device_main)\n",
    "optimizer_bert = AdamW(news_bert.parameters(), lr=2e-5)\n",
    "loss_bert = nn.CrossEntropyLoss()"
   ]
  },
  {
   "cell_type": "markdown",
   "metadata": {
    "id": "5LzmPZYlM7Rk"
   },
   "source": [
    "# SAMPLE PREVIEW"
   ]
  },
  {
   "cell_type": "code",
   "execution_count": null,
   "metadata": {
    "colab": {
     "base_uri": "https://localhost:8080/"
    },
    "id": "tvkUbZXvM7as",
    "outputId": "59070aeb-3571-46ec-9474-f265e46beecc"
   },
   "outputs": [],
   "source": [
    "print(\"\\nSample AG News data:\\n\")\n",
    "for i in range(2):\n",
    "    print(f\"News: {val_texts[i][:110]}...\")\n",
    "    print(f\"Label: {val_targets[i]} ({category_names[val_targets[i]]})\\n\")"
   ]
  },
  {
   "cell_type": "markdown",
   "metadata": {
    "id": "IHW2LE9JNC8w"
   },
   "source": [
    "# TRAIN"
   ]
  },
  {
   "cell_type": "code",
   "execution_count": null,
   "metadata": {
    "colab": {
     "base_uri": "https://localhost:8080/"
    },
    "id": "lugeH78dNDGO",
    "outputId": "c1652d3d-9a88-41d4-e8e4-b4657fa78cc1"
   },
   "outputs": [],
   "source": [
    "epoch_count = 10\n",
    "loss_hist = []\n",
    "\n",
    "for ep in range(epoch_count):\n",
    "    news_bert.train()\n",
    "    ep_loss = 0\n",
    "    for batch in train_batch:\n",
    "        input_ids = batch['input_ids'].to(device_main)\n",
    "        attn = batch['attention_mask'].to(device_main)\n",
    "        labs = batch['labels'].to(device_main)\n",
    "        optimizer_bert.zero_grad()\n",
    "        outs = news_bert(input_ids=input_ids, attention_mask=attn, labels=labs)\n",
    "        loss = outs.loss\n",
    "        loss.backward()\n",
    "        optimizer_bert.step()\n",
    "        ep_loss += loss.item()\n",
    "    avg_loss = ep_loss / len(train_batch)\n",
    "    loss_hist.append(avg_loss)\n",
    "    print(f\"Epoch {ep+1}/{epoch_count} | Loss: {avg_loss:.4f}\")"
   ]
  },
  {
   "cell_type": "markdown",
   "metadata": {
    "id": "_IzBLifMNIcN"
   },
   "source": [
    "# LOSS GRAPH"
   ]
  },
  {
   "cell_type": "code",
   "execution_count": null,
   "metadata": {
    "colab": {
     "base_uri": "https://localhost:8080/",
     "height": 407
    },
    "id": "0eq2t8mTNIkQ",
    "outputId": "c2700be5-9515-40b8-dde9-9ac01efbbb21"
   },
   "outputs": [],
   "source": [
    "plt.figure(figsize=(6,4))\n",
    "plt.plot(range(1, epoch_count+1), loss_hist, marker='X', linestyle='-', color='#00b4d8', linewidth=2.1)\n",
    "plt.title('BERT Training Loss (Epochs)', fontsize=13, fontweight='bold', color='#2e294e')\n",
    "plt.xlabel('Epoch')\n",
    "plt.ylabel('Loss')\n",
    "plt.grid(True, linestyle='--', alpha=0.35)\n",
    "plt.tight_layout()\n",
    "plt.show()"
   ]
  },
  {
   "cell_type": "markdown",
   "metadata": {
    "id": "gB_IqEk3NQz_"
   },
   "source": [
    "# EVALUATE"
   ]
  },
  {
   "cell_type": "code",
   "execution_count": null,
   "metadata": {
    "colab": {
     "base_uri": "https://localhost:8080/",
     "height": 538
    },
    "id": "XnzKUHhjNQ7o",
    "outputId": "b0427e20-1f47-45d5-da58-caf1e2a713bd"
   },
   "outputs": [],
   "source": [
    "news_bert.eval()\n",
    "pred_labels = []\n",
    "real_labels = []\n",
    "\n",
    "with torch.no_grad():\n",
    "    for batch in val_batch:\n",
    "        input_ids = batch['input_ids'].to(device_main)\n",
    "        attn = batch['attention_mask'].to(device_main)\n",
    "        labs = batch['labels'].to(device_main)\n",
    "        outputs = news_bert(input_ids=input_ids, attention_mask=attn)\n",
    "        preds = torch.argmax(outputs.logits, dim=1)\n",
    "        pred_labels.extend(preds.cpu().numpy())\n",
    "        real_labels.extend(labs.cpu().numpy())\n",
    "\n",
    "news_acc = accuracy_score(real_labels, pred_labels)\n",
    "news_f1 = f1_score(real_labels, pred_labels, average='weighted')\n",
    "print(f\"\\nAG News Validation Accuracy: {news_acc:.4f}\")\n",
    "print(f\"AG News Validation F1: {news_f1:.4f}\")\n",
    "\n",
    "cmatrix = confusion_matrix(real_labels, pred_labels)\n",
    "disp = ConfusionMatrixDisplay(confusion_matrix=cmatrix, display_labels=category_names)\n",
    "fig, ax = plt.subplots(figsize=(6,5))\n",
    "disp.plot(cmap='Oranges', ax=ax, colorbar=False)\n",
    "plt.title('AG News Confusion Matrix', fontsize=13, color='#a53860')\n",
    "plt.show()\n"
   ]
  },
  {
   "cell_type": "markdown",
   "metadata": {
    "id": "aF7BaUTDNaC9"
   },
   "source": [
    "# PREDICTION SAMPLES"
   ]
  },
  {
   "cell_type": "code",
   "execution_count": null,
   "metadata": {
    "colab": {
     "base_uri": "https://localhost:8080/"
    },
    "id": "TgQQxvG_NaMx",
    "outputId": "c27b398f-596b-47c1-aa97-434018d7a648"
   },
   "outputs": [],
   "source": [
    "print(\"\\nPredictions on validation samples:\\n\")\n",
    "for i in range(5):\n",
    "    print(f\"Text: {val_texts[i][:100]}...\")\n",
    "    print(f\"True: {category_names[val_targets[i]]} | Predicted: {category_names[pred_labels[i]]}\\n\")"
   ]
  }
 ],
 "metadata": {
  "accelerator": "GPU",
  "colab": {
   "gpuType": "L4",
   "machine_shape": "hm",
   "provenance": []
  },
  "kernelspec": {
   "display_name": "Python 3",
   "name": "python3"
  },
  "language_info": {
   "name": "python"
  }
 },
 "nbformat": 4,
 "nbformat_minor": 0
}
